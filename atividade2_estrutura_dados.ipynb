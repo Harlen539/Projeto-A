{
  "nbformat": 4,
  "nbformat_minor": 0,
  "metadata": {
    "colab": {
      "provenance": [],
      "authorship_tag": "ABX9TyOLvfC4ssLyRCivFiLl2d+h",
      "include_colab_link": true
    },
    "kernelspec": {
      "name": "python3",
      "display_name": "Python 3"
    },
    "language_info": {
      "name": "python"
    }
  },
  "cells": [
    {
      "cell_type": "markdown",
      "metadata": {
        "id": "view-in-github",
        "colab_type": "text"
      },
      "source": [
        "<a href=\"https://colab.research.google.com/github/Harlen539/Projeto-A/blob/main/atividade2_estrutura_dados.ipynb\" target=\"_parent\"><img src=\"https://colab.research.google.com/assets/colab-badge.svg\" alt=\"Open In Colab\"/></a>"
      ]
    },
    {
      "cell_type": "code",
      "execution_count": null,
      "metadata": {
        "colab": {
          "base_uri": "https://localhost:8080/"
        },
        "id": "7VBH29NNIP94",
        "outputId": "815c06ad-7123-480b-9bf8-4707d2171fb6"
      },
      "outputs": [
        {
          "output_type": "stream",
          "name": "stdout",
          "text": [
            "digite o primeiro número5\n",
            "digite o segundo número6\n",
            "digite o terceiro número9\n",
            "a média é 6.666666666666667\n"
          ]
        }
      ],
      "source": [
        "#1\n",
        "n1 = float(input(\"digite o primeiro número\"))\n",
        "n2 = float(input(\"digite o segundo número\"))\n",
        "n3 = float(input(\"digite o terceiro número\"))\n",
        "\n",
        "media = (n1 + n2 + n3) / 3\n",
        "print(\"a média é\", media)"
      ]
    },
    {
      "cell_type": "code",
      "source": [
        "#2\n",
        "num = int(input(\"digite um número :\"))\n",
        "if num % 2 == 0:\n",
        "    print(\"o número é par\")\n",
        "else:\n",
        "    print(\"o número é ímpar\")"
      ],
      "metadata": {
        "colab": {
          "base_uri": "https://localhost:8080/"
        },
        "id": "5Jojf8tDJrPb",
        "outputId": "b6fad807-e258-473a-e502-0dc089af371c"
      },
      "execution_count": null,
      "outputs": [
        {
          "output_type": "stream",
          "name": "stdout",
          "text": [
            "digite um número :8\n",
            "o número é par\n"
          ]
        }
      ]
    },
    {
      "cell_type": "code",
      "source": [
        "#3\n",
        "limite = int(input(\"digite um número inteiro :\"))\n",
        "\n",
        "print (f\"os números pares entre 0 e {limite} são:\")\n",
        "for num in range(limite + 1):\n",
        "    if num % 2 == 0:\n",
        "        print(num)"
      ],
      "metadata": {
        "colab": {
          "base_uri": "https://localhost:8080/"
        },
        "id": "365Jpzj-KTok",
        "outputId": "792fc5f3-e65f-41b5-b335-5986c78fc26f"
      },
      "execution_count": null,
      "outputs": [
        {
          "output_type": "stream",
          "name": "stdout",
          "text": [
            "digite um número inteiro :9\n",
            "os números pares entre 0 e 9 são:\n",
            "0\n",
            "2\n",
            "4\n",
            "6\n",
            "8\n"
          ]
        }
      ]
    },
    {
      "cell_type": "code",
      "source": [
        "#4\n",
        "\n",
        "lista = list(map(int, input(\"Digite os números separados por espaço: \").split()))\n",
        "\n",
        "if lista:\n",
        "  maior = max(lista)\n",
        "  menor = min(lista)\n",
        "\n",
        "  print(f\"o maior número é {maior} e o menor número é {menor}\")\n",
        "else:\n",
        "  print(\"nenhum numero foi digitado!\")"
      ],
      "metadata": {
        "colab": {
          "base_uri": "https://localhost:8080/"
        },
        "id": "ggzOpnogK69T",
        "outputId": "ab8f467b-95d8-4e46-9f2a-b42624494e25"
      },
      "execution_count": 2,
      "outputs": [
        {
          "output_type": "stream",
          "name": "stdout",
          "text": [
            "Digite os números separados por espaço: 5\n",
            "o maior número é 5 e o menor número é 5\n"
          ]
        }
      ]
    },
    {
      "cell_type": "code",
      "source": [
        "#5\n",
        "numeros = list(map(int, input(\"Digite os números separados por espaço: \").split()))\n",
        "\n",
        "pares = [num for num in numeros if num % 2 == 0]\n",
        "\n",
        "if pares:\n",
        "    media = sum(pares) / len(pares)\n",
        "    print(f\"A média dos números pares é: {media}\")\n",
        "else:\n",
        "    print(\"Não há números pares na lista.\")"
      ],
      "metadata": {
        "colab": {
          "base_uri": "https://localhost:8080/"
        },
        "id": "aU8euor1sbZ9",
        "outputId": "7e132ec5-5e57-4d52-85e1-0cf63fddc78a"
      },
      "execution_count": 3,
      "outputs": [
        {
          "output_type": "stream",
          "name": "stdout",
          "text": [
            "Digite os números separados por espaço: 5 6 9 \n",
            "A média dos números pares é: 6.0\n"
          ]
        }
      ]
    },
    {
      "cell_type": "code",
      "metadata": {
        "colab": {
          "base_uri": "https://localhost:8080/"
        },
        "id": "51000afb",
        "outputId": "4568d0e8-80c2-4337-ae6d-a0b1a38230f8"
      },
      "source": [
        "#6\n",
        "n = int(input(\"Digite um número inteiro positivo: \"))\n",
        "\n",
        "fatorial = 1\n",
        "for i in range(1, n + 1):\n",
        "    fatorial *= i\n",
        "\n",
        "print(f\"O fatorial de {n} é {fatorial}.\")\n"
      ],
      "execution_count": 4,
      "outputs": [
        {
          "output_type": "stream",
          "name": "stdout",
          "text": [
            "Digite um número inteiro positivo: 6\n",
            "O fatorial de 6 é 720.\n"
          ]
        }
      ]
    },
    {
      "cell_type": "code",
      "source": [
        "#7\n",
        "n = int(input(\"Digite um número: \"))\n",
        "\n",
        "a, b = 0, 1\n",
        "print(\"Sequência de Fibonacci:\")\n",
        "while a <= n:\n",
        "    print(a, end=\" \")\n",
        "    a, b = b, a + b"
      ],
      "metadata": {
        "colab": {
          "base_uri": "https://localhost:8080/"
        },
        "id": "QB0N-wF0ta67",
        "outputId": "a72a3ff3-118d-4f15-9892-05009ce020c2"
      },
      "execution_count": 6,
      "outputs": [
        {
          "output_type": "stream",
          "name": "stdout",
          "text": [
            "Digite um número: 10\n",
            "Sequência de Fibonacci:\n",
            "0 1 1 2 3 5 8 "
          ]
        }
      ]
    },
    {
      "cell_type": "code",
      "source": [
        "#8\n",
        "n = int(input(\"Digite um número: \"))\n",
        "\n",
        "if n > 1:\n",
        "    eh_primo = True\n",
        "    for i in range(2, int(n**0.5) + 1):\n",
        "        if n % i == 0:\n",
        "            eh_primo = False\n",
        "            break\n",
        "    if eh_primo:\n",
        "        print(f\"O número {n} é PRIMO.\")\n",
        "    else:\n",
        "        print(f\"O número {n} NÃO é primo.\")\n",
        "else:\n",
        "    print(\"Números menores ou iguais a 1 não são primos.\")\n"
      ],
      "metadata": {
        "colab": {
          "base_uri": "https://localhost:8080/"
        },
        "id": "TKKyBx8Vtl2Z",
        "outputId": "fd38ceda-454e-4ed6-c4d1-93acd0442261"
      },
      "execution_count": 7,
      "outputs": [
        {
          "output_type": "stream",
          "name": "stdout",
          "text": [
            "Digite um número: 8 \n",
            "O número 8 NÃO é primo.\n"
          ]
        }
      ]
    },
    {
      "cell_type": "code",
      "source": [
        "#9\n",
        "nomes = input(\"Digite os nomes separados por espaço: \").split()\n",
        "\n",
        "nomes_com_a = [nome for nome in nomes if nome.upper().startswith('A')]\n",
        "\n",
        "print(\"Nomes que começam com 'A':\", nomes_com_a)"
      ],
      "metadata": {
        "colab": {
          "base_uri": "https://localhost:8080/"
        },
        "id": "B8f57zSgueMc",
        "outputId": "f53f18d1-ba37-47d8-bafc-015a736d8974"
      },
      "execution_count": 9,
      "outputs": [
        {
          "output_type": "stream",
          "name": "stdout",
          "text": [
            "Digite os nomes separados por espaço: ADAM PAULO NISTON HARLEN\n",
            "Nomes que começam com 'A': ['ADAM']\n"
          ]
        }
      ]
    }
  ]
}